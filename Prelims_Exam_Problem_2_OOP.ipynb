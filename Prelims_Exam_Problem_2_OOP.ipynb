{
  "nbformat": 4,
  "nbformat_minor": 0,
  "metadata": {
    "colab": {
      "name": "Prelims Exam-Problem 2-OOP.ipynb",
      "provenance": [],
      "authorship_tag": "ABX9TyOR7plnvWf02w19o/BOGxb0",
      "include_colab_link": true
    },
    "kernelspec": {
      "name": "python3",
      "display_name": "Python 3"
    },
    "language_info": {
      "name": "python"
    }
  },
  "cells": [
    {
      "cell_type": "markdown",
      "metadata": {
        "id": "view-in-github",
        "colab_type": "text"
      },
      "source": [
        "<a href=\"https://colab.research.google.com/github/Rhonan2/OOP-1-1/blob/main/Prelims_Exam_Problem_2_OOP.ipynb\" target=\"_parent\"><img src=\"https://colab.research.google.com/assets/colab-badge.svg\" alt=\"Open In Colab\"/></a>"
      ]
    },
    {
      "cell_type": "markdown",
      "source": [
        "Problem 2. (50 points)\n",
        "\n",
        "1.\tWrite a Python to display your full name, student number, age, and course\n",
        "2.\tCreate a class named Student with attributes: Name, Student_No, Age, School, and Course\n",
        "3.\tCreate an object name Myself and assign an instance for each attribute.\n",
        "4.\tCreate a method Info() using an instantiation of a class.\n",
        "5.\tInsert your GitHub link \"Prelim Exam\" from your repository named \"OOP 1-1\"\n",
        "\n"
      ],
      "metadata": {
        "id": "iQHaFfMlAeeP"
      }
    },
    {
      "cell_type": "code",
      "source": [
        "class Student:\n",
        "  def __init__ (self,name,student_no,age,course,school):\n",
        "    self.name = name\n",
        "    self.student_no = student_no\n",
        "    self.age = age\n",
        "    self.course = course\n",
        "    self.school = school\n",
        "\n",
        "  def info(self):\n",
        "    print(\"My Name is: \",self.name)\n",
        "    print(\"My Student no. is: \",self.student_no)\n",
        "    print(\"My Age is: \",self.age)\n",
        "    print(\"My Course is: \",self.course)\n",
        "    print(\"My School is: \",self.school)\n",
        "\n",
        "Myself = Student(\"Rhonan Richmond D. Bangay\",202101447,20,\"BS Computer Engineering\",\"Cavite State University, main Campus\")\n",
        "Myself.info()"
      ],
      "metadata": {
        "colab": {
          "base_uri": "https://localhost:8080/"
        },
        "id": "gft9zqvEOvPZ",
        "outputId": "45c99129-8839-4164-ed07-5333c3422490"
      },
      "execution_count": 29,
      "outputs": [
        {
          "output_type": "stream",
          "name": "stdout",
          "text": [
            "My Name is:  Rhonan Richmond D. Bangay\n",
            "My Student no. is:  202101447\n",
            "My Age is:  20\n",
            "My Course is:  BS Computer Engineering\n",
            "My School is:  Cavite State University, main Campus\n"
          ]
        }
      ]
    }
  ]
}