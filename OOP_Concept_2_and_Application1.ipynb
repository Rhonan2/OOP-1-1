{
  "nbformat": 4,
  "nbformat_minor": 0,
  "metadata": {
    "colab": {
      "name": "OOP Concept 2-and-Application1.ipynb",
      "provenance": [],
      "collapsed_sections": [],
      "authorship_tag": "ABX9TyM1ALQNICjku7JD0S4ClDzH",
      "include_colab_link": true
    },
    "kernelspec": {
      "name": "python3",
      "display_name": "Python 3"
    },
    "language_info": {
      "name": "python"
    }
  },
  "cells": [
    {
      "cell_type": "markdown",
      "metadata": {
        "id": "view-in-github",
        "colab_type": "text"
      },
      "source": [
        "<a href=\"https://colab.research.google.com/github/Rhonan2/OOP-1-1/blob/main/OOP_Concept_2_and_Application1.ipynb\" target=\"_parent\"><img src=\"https://colab.research.google.com/assets/colab-badge.svg\" alt=\"Open In Colab\"/></a>"
      ]
    },
    {
      "cell_type": "markdown",
      "source": [
        "Classes with multiple Object "
      ],
      "metadata": {
        "id": "2Fw1q3MEJ5Jv"
      }
    },
    {
      "cell_type": "code",
      "execution_count": null,
      "metadata": {
        "colab": {
          "base_uri": "https://localhost:8080/"
        },
        "id": "1Fu1JvgLJ3aN",
        "outputId": "3df4c099-47f0-466f-87b1-967015c00286"
      },
      "outputs": [
        {
          "output_type": "stream",
          "name": "stdout",
          "text": [
            "Griffon Vulture flies above the sky\n",
            "Common Crane flies above the sky\n",
            "Emu is the national bird of Australia\n"
          ]
        }
      ],
      "source": [
        "class Birds:\n",
        "  def __init__(self,birds_name):\n",
        "    self.birds_name = birds_name\n",
        "  def flying_birds(self):\n",
        "    print(f\"{self.birds_name} flies above the sky\")\n",
        "  def non_flying_birds(self):\n",
        "    print(f\"{self.birds_name} is the national bird of Australia\")\n",
        "  \n",
        "vulture = Birds(\"Griffon Vulture\")\n",
        "crane = Birds(\"Common Crane\")\n",
        "emu = Birds(\"Emu\")\n",
        "\n",
        "vulture.flying_birds()\n",
        "crane.flying_birds()\n",
        "emu.non_flying_birds()"
      ]
    },
    {
      "cell_type": "markdown",
      "source": [
        "Encapsulation (mangling with double underscore)"
      ],
      "metadata": {
        "id": "3nPCUUiTQ0lJ"
      }
    },
    {
      "cell_type": "code",
      "source": [
        "class foo:\n",
        "  def __init__(self, a,b):\n",
        "    self.__a = a    \n",
        "    self.__b = b\n",
        "  def add(self):\n",
        "    return self.__a + self.__b\n",
        "foo_object = foo(3,4)\n",
        "foo_object.add()\n",
        "\n",
        "foo_object.__a = 6\n",
        "foo_object.add()"
      ],
      "metadata": {
        "colab": {
          "base_uri": "https://localhost:8080/"
        },
        "id": "KMpblzwnPMgZ",
        "outputId": "077146ba-238d-4e12-ed6d-825b398a6d57"
      },
      "execution_count": null,
      "outputs": [
        {
          "output_type": "execute_result",
          "data": {
            "text/plain": [
              "7"
            ]
          },
          "metadata": {},
          "execution_count": 7
        }
      ]
    },
    {
      "cell_type": "code",
      "source": [
        "class Counter:\n",
        "  def __init__(self):\n",
        "    self.__current = 0\n",
        "  def increment(self):\n",
        "    self.__current +=1\n",
        "  def value(self):\n",
        "    return self.__current\n",
        "  def reset(self):\n",
        "    self.__current = 0\n",
        "\n",
        "num = Counter()\n",
        "num.increment()\n",
        "num.increment()\n",
        "num.__current = 5\n",
        "\n",
        "print(num.value())\n"
      ],
      "metadata": {
        "colab": {
          "base_uri": "https://localhost:8080/"
        },
        "id": "xSm-7dgKRdHO",
        "outputId": "dae5445b-5f55-49d8-b65a-bae6de383357"
      },
      "execution_count": null,
      "outputs": [
        {
          "output_type": "stream",
          "name": "stdout",
          "text": [
            "2\n"
          ]
        }
      ]
    },
    {
      "cell_type": "markdown",
      "source": [
        "Inheritance"
      ],
      "metadata": {
        "id": "o8G3CPzIU8Oi"
      }
    },
    {
      "cell_type": "code",
      "source": [
        "class Person:\n",
        "  def __init__(self,firstname,surname):\n",
        "    self.firstname = firstname\n",
        "    self.surname = surname\n",
        "  def fullname(self):\n",
        "    print(self.firstname,self.surname)\n",
        "\n",
        "person = Person(\"Rhonan\", \"Bangay\")\n",
        "person.fullname()\n",
        "\n",
        "class Student(Person):\n",
        "  pass\n",
        "\n",
        "person2 = Student(\"Richmond\", \"Bangay\")\n",
        "person2.fullname()\n"
      ],
      "metadata": {
        "colab": {
          "base_uri": "https://localhost:8080/"
        },
        "id": "pUtu0zURUwif",
        "outputId": "f7c3c2d2-71ed-4474-f90a-92ba2f2a73f0"
      },
      "execution_count": null,
      "outputs": [
        {
          "output_type": "stream",
          "name": "stdout",
          "text": [
            "Rhonan Bangay\n",
            "Richmond Bangay\n"
          ]
        }
      ]
    },
    {
      "cell_type": "markdown",
      "source": [
        "Polymorphism"
      ],
      "metadata": {
        "id": "Hfb3XxXbXn2Z"
      }
    },
    {
      "cell_type": "code",
      "source": [
        "class RegularPolygon:\n",
        "  def __init__(self,side):\n",
        "    self.side = side\n",
        "class Square(RegularPolygon):\n",
        "  def area(self):\n",
        "    return self.side * self.side\n",
        "class EquilateralTriangle(RegularPolygon):\n",
        "  def area(self):\n",
        "    return self.side * self.side * 0.433\n",
        "\n",
        "obj1 = Square(4)\n",
        "print(obj1.area())\n",
        "\n",
        "obj2 = EquilateralTriangle(3)\n",
        "print(obj2.area())"
      ],
      "metadata": {
        "colab": {
          "base_uri": "https://localhost:8080/"
        },
        "id": "fMmgp_FOXrFN",
        "outputId": "20c36f33-44d0-475c-a975-88802c6cb3ba"
      },
      "execution_count": null,
      "outputs": [
        {
          "output_type": "stream",
          "name": "stdout",
          "text": [
            "16\n",
            "3.897\n"
          ]
        }
      ]
    },
    {
      "cell_type": "markdown",
      "source": [
        "Application 1\n",
        "\n",
        "1. Create a python program that displays the name of three students (Student 1, Student 2, Student 3) and their term grades\n",
        "\n",
        "2. Create a class name Person and attributes - std1, std2, std3,pre,mid,fin\n",
        "\n",
        "3. Compute the average of each term grade using Grade() method\n",
        "\n",
        "4. Information about student's grades must be hidden from others"
      ],
      "metadata": {
        "id": "eJJxSKld5yf4"
      }
    },
    {
      "cell_type": "code",
      "source": [
        "class person_n_attributes:\n",
        "  def __init__(self,term_grade):\n",
        "    self.__term_grade = term_grade\n",
        "\n",
        "  def Terms(self):\n",
        "    print(f\"{self.__term_grade} Prelim   Midterms    Finals \")\n",
        "  def student_1(self):\n",
        "    print(f\"{self.__term_grade}      1.5       1.5        1.5\")\n",
        "  def student_2(self):\n",
        "    print(f\"{self.__term_grade}      1.5       1.75       1.5\")\n",
        "  def student_3(self):\n",
        "    print(f\"{self.__term_grade}      2.0       1.75       1.5 \\n\")\n",
        "\n",
        "Std_1 = person_n_attributes(\"Student 1: \")\n",
        "Std_2 = person_n_attributes(\"Student 2: \")\n",
        "Std_3 = person_n_attributes(\"Student 3: \")\n",
        "babe = person_n_attributes(\"Grading Period:\")\n",
        "\n",
        "babe.Terms()\n",
        "Std_1.student_1()\n",
        "Std_2.student_2()\n",
        "Std_3.student_3()\n",
        "\n",
        "class ave_grade(person_n_attributes):\n",
        "  def __init__(self):\n",
        "    self.__pre = float(input(\"Prelim grade:  \"))\n",
        "    self.__mid = float(input(\"Midterm grade: \"))\n",
        "    self.__fin = float(input(\"Finals grade:  \"))\n",
        "\n",
        "  def Grades(self):\n",
        "    return (self.__pre + self.__mid + self.__fin)/3\n",
        "\n",
        "class name_std(person_n_attributes):\n",
        "  def __init__(self, std_name):\n",
        "    self.std_name = std_name\n",
        "  def name(self):\n",
        "    return \"Student 1:\"\n",
        "  def name_2(self):\n",
        "    return \"Student 2:\"\n",
        "  def name_3(self):\n",
        "    return \"Student 3:\"\n",
        "\n",
        "std1 = name_std(\" \")\n",
        "std2 = name_std(\" \")\n",
        "std3 = name_std(\" \")\n",
        "\n",
        "print(\"Computation of grade:\")\n",
        "print(std1.name())\n",
        "add_all_1 = ave_grade()\n",
        "print(\"   Final Average: \",add_all_1.Grades(),\"\\n\")\n",
        "\n",
        "print(std2.name_2())\n",
        "add_all_2 = ave_grade()\n",
        "print(\"   Final Average: \",add_all_2.Grades(),\"\\n\")\n",
        "\n",
        "print(std3.name_3())\n",
        "add_all_3 = ave_grade()\n",
        "print(\"   Final Average: \",add_all_3.Grades(),\"\\n\")\n",
        "\n",
        "print(\"1st Semester: Term Grade\")\n",
        "print(std1.name()  , add_all_1.Grades())\n",
        "print(std2.name_2(), add_all_2.Grades())\n",
        "print(std3.name_3() , add_all_3.Grades())"
      ],
      "metadata": {
        "colab": {
          "base_uri": "https://localhost:8080/"
        },
        "id": "8qkXuCQW_Mbf",
        "outputId": "fbed18a4-bfb0-4186-f9df-cb5270b439f4"
      },
      "execution_count": 1,
      "outputs": [
        {
          "output_type": "stream",
          "name": "stdout",
          "text": [
            "Grading Period: Prelim   Midterms    Finals \n",
            "Student 1:       1.5       1.5        1.5\n",
            "Student 2:       1.5       1.75       1.5\n",
            "Student 3:       2.0       1.75       1.5 \n",
            "\n",
            "Computation of grade:\n",
            "Student 1:\n",
            "Prelim grade:  1.5\n",
            "Midterm grade: 1.5\n",
            "Finals grade:  1.5\n",
            "   Final Average:  1.5 \n",
            "\n",
            "Student 2:\n",
            "Prelim grade:  1.5\n",
            "Midterm grade: 1.75\n",
            "Finals grade:  1.5\n",
            "   Final Average:  1.5833333333333333 \n",
            "\n",
            "Student 3:\n",
            "Prelim grade:  2.0\n",
            "Midterm grade: 1.75\n",
            "Finals grade:  1.5\n",
            "   Final Average:  1.75 \n",
            "\n",
            "1st Semester: Term Grade\n",
            "Student 1: 1.5\n",
            "Student 2: 1.5833333333333333\n",
            "Student 3: 1.75\n"
          ]
        }
      ]
    }
  ]
}