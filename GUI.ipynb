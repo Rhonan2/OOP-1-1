{
  "nbformat": 4,
  "nbformat_minor": 0,
  "metadata": {
    "colab": {
      "name": "GUI.ipynb",
      "provenance": [],
      "authorship_tag": "ABX9TyPD1A9vwaHhIvK4MkxPc6TW",
      "include_colab_link": true
    },
    "kernelspec": {
      "name": "python3",
      "display_name": "Python 3"
    },
    "language_info": {
      "name": "python"
    }
  },
  "cells": [
    {
      "cell_type": "markdown",
      "metadata": {
        "id": "view-in-github",
        "colab_type": "text"
      },
      "source": [
        "<a href=\"https://colab.research.google.com/github/Rhonan2/OOP-1-1/blob/main/GUI.ipynb\" target=\"_parent\"><img src=\"https://colab.research.google.com/assets/colab-badge.svg\" alt=\"Open In Colab\"/></a>"
      ]
    },
    {
      "cell_type": "markdown",
      "source": [
        "Student's Grade in OOP subject"
      ],
      "metadata": {
        "id": "WQhFHfiGUMkr"
      }
    },
    {
      "cell_type": "code",
      "execution_count": 24,
      "metadata": {
        "colab": {
          "base_uri": "https://localhost:8080/"
        },
        "id": "Pd-0BiETULvE",
        "outputId": "8621b25a-3a4b-4dce-d1bf-fde2b4b2673a"
      },
      "outputs": [
        {
          "output_type": "stream",
          "name": "stdout",
          "text": [
            "Rhonan Bangay\n",
            "My Prelim Grade:  1.5\n",
            "My Prelim Grade:  1\n",
            "My Prelim Grade:  1.5\n",
            "Average: 1.33\n",
            "Gender:  Male\n",
            "My Birthdate is 2001-10-12\n"
          ]
        }
      ],
      "source": [
        "#@title students' Grade in oop\n",
        "Studentname = \"Rhonan Bangay\"#@param {type:\"string\"}\n",
        "Prelim = 1.5 #@param {type:'number'}\n",
        "Midterm = 1 #@param {type:'number'}\n",
        "Finals = 1.5 #@param {type:'number'}\n",
        "semestral_grade = (Prelim+Midterm+Finals)/3\n",
        "\n",
        "print(Studentname)\n",
        "print(\"My Prelim Grade: \", Prelim)\n",
        "print(\"My Prelim Grade: \", Midterm)\n",
        "print(\"My Prelim Grade: \", Finals)\n",
        "print(\"Average:\",\"{:.2f}\".format(semestral_grade))\n",
        "\n",
        "gender = \"Male\" #@param [\"Male\",\"Female\"]\n",
        "Birthdate = '2001-10-12' #@param {type:\"date\"}\n",
        "print(\"Gender: \", gender)\n",
        "print(\"My Birthdate is\", Birthdate)"
      ]
    }
  ]
}