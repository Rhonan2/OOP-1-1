{
  "nbformat": 4,
  "nbformat_minor": 0,
  "metadata": {
    "colab": {
      "name": "Class and Objects.ipynb",
      "provenance": [],
      "authorship_tag": "ABX9TyNJ9k5NUf4PEDzqHZ9QHR67",
      "include_colab_link": true
    },
    "kernelspec": {
      "name": "python3",
      "display_name": "Python 3"
    },
    "language_info": {
      "name": "python"
    }
  },
  "cells": [
    {
      "cell_type": "markdown",
      "metadata": {
        "id": "view-in-github",
        "colab_type": "text"
      },
      "source": [
        "<a href=\"https://colab.research.google.com/github/Rhonan2/OOP-1-1/blob/main/Class_and_Objects.ipynb\" target=\"_parent\"><img src=\"https://colab.research.google.com/assets/colab-badge.svg\" alt=\"Open In Colab\"/></a>"
      ]
    },
    {
      "cell_type": "markdown",
      "source": [
        "Application 2\n",
        "- Wrtite a python program that display the fullname of student, student number, age, course, and school\n",
        "\n",
        "- Create a class name OOP_1_1 and create info() method to display the information of the student with fullname, student_no, age, course, school as attributes"
      ],
      "metadata": {
        "id": "ZoDosBaS1ozv"
      }
    },
    {
      "cell_type": "code",
      "source": [
        "class OOp_1_1:\n",
        "  def __init__ (self,fullname,student_no,age,course,school):\n",
        "    self.fullname = fullname\n",
        "    self.student_no = student_no\n",
        "    self.age = age\n",
        "    self.course = course\n",
        "    self.school = school\n",
        "\n",
        "  def info(self):\n",
        "    print(self.fullname,\"-\",self.student_no,\"-\",self.age,\"-\",self.course,\"-\",self.school)\n",
        "\n",
        "    print(\"\\n\")\n",
        "\n",
        "    print(\"My Name is: \",self.fullname)\n",
        "    print(\"My Student no. is: \",self.student_no)\n",
        "    print(\"My Age is: \",self.age)\n",
        "    print(\"My Course is: \",self.course)\n",
        "    print(\"My School is: \",self.school)\n",
        "student = OOp_1_1(\"Rhonan Richmond D. Bangay\",202101447,20,\"BSCpE\",\"CVSU\")\n",
        "student.info()"
      ],
      "metadata": {
        "colab": {
          "base_uri": "https://localhost:8080/"
        },
        "id": "pFgE8rev1h3p",
        "outputId": "55795137-96fc-48e0-d775-23506653e6cf"
      },
      "execution_count": 95,
      "outputs": [
        {
          "output_type": "stream",
          "name": "stdout",
          "text": [
            "Rhonan Richmond D. Bangay - 202101447 - 20 - BSCpE - CVSU\n",
            "\n",
            "\n",
            "My Name is:  Rhonan Richmond D. Bangay\n",
            "My Student no. is:  202101447\n",
            "My Age is:  20\n",
            "My Course is:  BSCpE\n",
            "My School is:  CVSU\n"
          ]
        }
      ]
    },
    {
      "cell_type": "markdown",
      "source": [
        "Application 3 \n",
        " - Define an Area() method of the class that calculates the circle's area. Define a perimeter() method of the class which allows you to calculate ther perimeter of the circle."
      ],
      "metadata": {
        "id": "YxgpFDU76sfW"
      }
    },
    {
      "cell_type": "code",
      "source": [
        "# formula for area of circle is A = πr²\n",
        "# formula for perimeter is 2πr\n",
        "# π = 3.14\n",
        "pi = 3.14\n",
        "class Circle:\n",
        "  def __init__(self, radius):\n",
        "    self.radius = radius\n",
        "\n",
        "  def Area(self):\n",
        "    a = self.radius*self.radius\n",
        "# multiply to pi, and pi is 3.14\n",
        "    b = pi*a\n",
        "    print(\"Area of a Cirle is: \",b)\n",
        "  \n",
        "#calculate the perimeter of the circle\n",
        "  def perimeter(self):\n",
        "    print(\"Perimeter of the Circle is: \",2*pi*self.radius)\n",
        "\n",
        "Circle_area = Circle(14)\n",
        "Circle_area.Area()\n",
        "Circle_area.perimeter()"
      ],
      "metadata": {
        "colab": {
          "base_uri": "https://localhost:8080/"
        },
        "id": "J8uBkDgr7krb",
        "outputId": "5dfa93c1-3a36-42a6-ab31-16cb37744e95"
      },
      "execution_count": 96,
      "outputs": [
        {
          "output_type": "stream",
          "name": "stdout",
          "text": [
            "Area of a Cirle is:  615.44\n",
            "Perimeter of the Circle is:  87.92\n"
          ]
        }
      ]
    }
  ]
}