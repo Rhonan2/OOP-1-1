{
  "nbformat": 4,
  "nbformat_minor": 0,
  "metadata": {
    "colab": {
      "name": "Midterm Exam(Prob1).ipynb",
      "provenance": [],
      "collapsed_sections": [],
      "authorship_tag": "ABX9TyOAb7u23JvUIosyIXUejxH1",
      "include_colab_link": true
    },
    "kernelspec": {
      "name": "python3",
      "display_name": "Python 3"
    },
    "language_info": {
      "name": "python"
    }
  },
  "cells": [
    {
      "cell_type": "markdown",
      "metadata": {
        "id": "view-in-github",
        "colab_type": "text"
      },
      "source": [
        "<a href=\"https://colab.research.google.com/github/Rhonan2/OOP-1-1/blob/main/Midterm_Exam.ipynb\" target=\"_parent\"><img src=\"https://colab.research.google.com/assets/colab-badge.svg\" alt=\"Open In Colab\"/></a>"
      ]
    },
    {
      "cell_type": "code",
      "source": [
        "def main():\n",
        " class TemperatureConversion:\n",
        "  def __init__(self, temp=1):\n",
        "   self._temp = temp\n",
        " class CelsiusToFahrenheit(TemperatureConversion):\n",
        "  def conversion(self):\n",
        "   return (self._temp * 9) / 5 + 32\n",
        " class CelsiusToKelvin(TemperatureConversion):\n",
        "  def conversion(self):\n",
        "   return self._temp + 273.15\n",
        " class Fahrenheit2Celsius(TemperatureConversion):\n",
        "  def conversion2(self):\n",
        "   return (self._temp - 32) * 9/5\n",
        " class KelvinToCelsius(TemperatureConversion):\n",
        "  def conversion2(self):\n",
        "    return self._temp - 273.15\n",
        "\n",
        " tempInCelsius = float(input(\"Enter the temperature in Celsius: \"))\n",
        " convert = CelsiusToKelvin(tempInCelsius)\n",
        " print(str(convert.conversion()) + \" Kelvin\")\n",
        " convert = CelsiusToFahrenheit(tempInCelsius)\n",
        " print(str(convert.conversion()) + \" Fahrenheit\")\n",
        "\n",
        " tempinFahrenheit2 = float(input(\"Enter the Temperature in Fahrenheit: \"))\n",
        " convert2 = Fahrenheit2Celsius(tempinFahrenheit2)\n",
        " print(str(convert2.conversion2()),\"Celsius\")\n",
        "    \n",
        " tempkelvin = float(input(\"Temperature in Kelvin:\"))\n",
        " convert = KelvinToCelsius(tempkelvin)\n",
        " print(str(convert.conversion2()),\"Celsius\")\n",
        "\n",
        "main()\n"
      ],
      "metadata": {
        "colab": {
          "base_uri": "https://localhost:8080/"
        },
        "id": "KvAyDqgCc6eH",
        "outputId": "02e3f251-9c8e-4586-99ba-d89798db3f31"
      },
      "execution_count": 60,
      "outputs": [
        {
          "output_type": "stream",
          "name": "stdout",
          "text": [
            "Enter the temperature in Celsius: 20\n",
            "293.15 Kelvin\n",
            "68.0 Fahrenheit\n",
            "Enter the Temperature in Fahrenheit: 20\n",
            "-21.6 Celsius\n",
            "Temperature in Kelvin:20\n",
            "-253.14999999999998 Celsius\n"
          ]
        }
      ]
    }
  ]
}