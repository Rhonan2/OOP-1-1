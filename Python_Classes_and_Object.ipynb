{
  "nbformat": 4,
  "nbformat_minor": 0,
  "metadata": {
    "colab": {
      "name": "Python Classes and Object.ipynb",
      "provenance": [],
      "authorship_tag": "ABX9TyO90SVrw0oRUc4s/XgpkTKG",
      "include_colab_link": true
    },
    "kernelspec": {
      "name": "python3",
      "display_name": "Python 3"
    },
    "language_info": {
      "name": "python"
    }
  },
  "cells": [
    {
      "cell_type": "markdown",
      "metadata": {
        "id": "view-in-github",
        "colab_type": "text"
      },
      "source": [
        "<a href=\"https://colab.research.google.com/github/Rhonan2/OOP-1-1/blob/main/Python_Classes_and_Object.ipynb\" target=\"_parent\"><img src=\"https://colab.research.google.com/assets/colab-badge.svg\" alt=\"Open In Colab\"/></a>"
      ]
    },
    {
      "cell_type": "markdown",
      "source": [
        "Class"
      ],
      "metadata": {
        "id": "Ds4KMW2l7-7x"
      }
    },
    {
      "cell_type": "code",
      "source": [
        "class MyClass:\n",
        "  pass          #create a class without variable"
      ],
      "metadata": {
        "id": "-SM2WB6c0YTW"
      },
      "execution_count": null,
      "outputs": []
    },
    {
      "cell_type": "code",
      "source": [
        "class MyClass:\n",
        "  def __init__(self,name,age):\n",
        "    self.name =  name           #create a class with attibutes\n",
        "    self.age = age\n",
        "\n",
        "  def display(self):\n",
        "    print(self.name, self.age)\n",
        "\n",
        "person = MyClass(\"RHONAN RICHMOND D. BANGAY,\", 19)    #create an object name\n",
        "print(person.name,person.age)\n",
        "\n",
        "person.display()"
      ],
      "metadata": {
        "colab": {
          "base_uri": "https://localhost:8080/"
        },
        "id": "1RNacm0K0cKt",
        "outputId": "0e40175f-a67a-4f22-9f8c-9d90774fe028"
      },
      "execution_count": 36,
      "outputs": [
        {
          "output_type": "stream",
          "name": "stdout",
          "text": [
            "RHONAN RICHMOND D. BANGAY, 19\n",
            "RHONAN RICHMOND D. BANGAY, 19\n"
          ]
        }
      ]
    },
    {
      "cell_type": "code",
      "source": [
        "#application 1 write a python program that compute for an area of rectangle A=lxw\n",
        "\n",
        "class Rectangle:\n",
        "  def __init__(self, w,l):\n",
        "    self.l = l\n",
        "    self.w = w\n",
        "\n",
        "  def Area(self):\n",
        "    print(self.l*self.w)\n",
        "    \n",
        "rect = Rectangle(7,3)\n",
        "rect.Area()"
      ],
      "metadata": {
        "colab": {
          "base_uri": "https://localhost:8080/"
        },
        "id": "QXXNnrX728sr",
        "outputId": "227a6d1d-811a-42bd-a69e-85a3cbafbe45"
      },
      "execution_count": 35,
      "outputs": [
        {
          "output_type": "stream",
          "name": "stdout",
          "text": [
            "21\n"
          ]
        }
      ]
    },
    {
      "cell_type": "markdown",
      "source": [
        ""
      ],
      "metadata": {
        "id": "SKyfIDy80Vsy"
      }
    }
  ]
}