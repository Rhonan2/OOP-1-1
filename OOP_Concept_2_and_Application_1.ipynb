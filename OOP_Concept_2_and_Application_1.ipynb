{
  "nbformat": 4,
  "nbformat_minor": 0,
  "metadata": {
    "colab": {
      "name": "OOP Concept 2-and-Application-1.ipynb",
      "provenance": [],
      "collapsed_sections": [],
      "authorship_tag": "ABX9TyMgq12L/IxluR6OxmkVwfVe",
      "include_colab_link": true
    },
    "kernelspec": {
      "name": "python3",
      "display_name": "Python 3"
    },
    "language_info": {
      "name": "python"
    }
  },
  "cells": [
    {
      "cell_type": "markdown",
      "metadata": {
        "id": "view-in-github",
        "colab_type": "text"
      },
      "source": [
        "<a href=\"https://colab.research.google.com/github/Rhonan2/OOP-1-1/blob/main/OOP_Concept_2_and_Application_1.ipynb\" target=\"_parent\"><img src=\"https://colab.research.google.com/assets/colab-badge.svg\" alt=\"Open In Colab\"/></a>"
      ]
    },
    {
      "cell_type": "markdown",
      "source": [
        "Classes with multiple Object "
      ],
      "metadata": {
        "id": "2Fw1q3MEJ5Jv"
      }
    },
    {
      "cell_type": "code",
      "execution_count": null,
      "metadata": {
        "colab": {
          "base_uri": "https://localhost:8080/"
        },
        "id": "1Fu1JvgLJ3aN",
        "outputId": "cefe6b09-ac49-44d6-ddc9-2b370c700874"
      },
      "outputs": [
        {
          "output_type": "stream",
          "name": "stdout",
          "text": [
            "Griffon Vulture flies above the sky\n",
            "Common Crane flies above the sky\n",
            "Emu is the national bird of Australia\n"
          ]
        }
      ],
      "source": [
        "class Birds:\n",
        "  def __init__(self,birds_name):\n",
        "    self.birds_name = birds_name\n",
        "  def flying_birds(self):\n",
        "    print(f\"{self.birds_name} flies above the sky\")\n",
        "  def non_flying_birds(self):\n",
        "    print(f\"{self.birds_name} is the national bird of Australia\")\n",
        "  \n",
        "vulture = Birds(\"Griffon Vulture\")\n",
        "crane = Birds(\"Common Crane\")\n",
        "emu = Birds(\"Emu\")\n",
        "\n",
        "vulture.flying_birds()\n",
        "crane.flying_birds()\n",
        "emu.non_flying_birds()"
      ]
    },
    {
      "cell_type": "markdown",
      "source": [
        "Encapsulation (mangling with double underscore)"
      ],
      "metadata": {
        "id": "3nPCUUiTQ0lJ"
      }
    },
    {
      "cell_type": "code",
      "source": [
        "class foo:\n",
        "  def __init__(self, a,b):\n",
        "    self.__a = a    \n",
        "    self.__b = b\n",
        "  def add(self):\n",
        "    return self.__a + self.__b\n",
        "foo_object = foo(3,4)\n",
        "foo_object.add()\n",
        "\n",
        "foo_object.__a = 6\n",
        "foo_object.add()"
      ],
      "metadata": {
        "colab": {
          "base_uri": "https://localhost:8080/"
        },
        "id": "KMpblzwnPMgZ",
        "outputId": "de278703-1a34-4965-8b0c-111193522d47"
      },
      "execution_count": null,
      "outputs": [
        {
          "output_type": "execute_result",
          "data": {
            "text/plain": [
              "7"
            ]
          },
          "metadata": {},
          "execution_count": 3
        }
      ]
    },
    {
      "cell_type": "code",
      "source": [
        "class Counter:\n",
        "  def __init__(self):\n",
        "    self.__current = 0\n",
        "  def increment(self):\n",
        "    self.__current +=1\n",
        "  def value(self):\n",
        "    return self.__current\n",
        "  def reset(self):\n",
        "    self.__current = 0\n",
        "\n",
        "num = Counter()\n",
        "num.increment()\n",
        "num.increment()\n",
        "num.__current = 5\n",
        "\n",
        "print(num.value())\n"
      ],
      "metadata": {
        "colab": {
          "base_uri": "https://localhost:8080/"
        },
        "id": "xSm-7dgKRdHO",
        "outputId": "eada6443-fbba-4d3b-89fb-673d25fb6b2d"
      },
      "execution_count": null,
      "outputs": [
        {
          "output_type": "stream",
          "name": "stdout",
          "text": [
            "2\n"
          ]
        }
      ]
    },
    {
      "cell_type": "markdown",
      "source": [
        "Inheritance"
      ],
      "metadata": {
        "id": "o8G3CPzIU8Oi"
      }
    },
    {
      "cell_type": "code",
      "source": [
        "class Person:\n",
        "  def __init__(self,firstname,surname):\n",
        "    self.firstname = firstname\n",
        "    self.surname = surname\n",
        "  def fullname(self):\n",
        "    print(self.firstname,self.surname)\n",
        "\n",
        "person = Person(\"Rhonan\", \"Bangay\")\n",
        "person.fullname()\n",
        "\n",
        "class Student(Person):\n",
        "  pass\n",
        "\n",
        "person2 = Student(\"Richmond\", \"Bangay\")\n",
        "person2.fullname()\n"
      ],
      "metadata": {
        "colab": {
          "base_uri": "https://localhost:8080/"
        },
        "id": "pUtu0zURUwif",
        "outputId": "767bb2b9-cec9-4fea-dc02-211b4dead7b9"
      },
      "execution_count": null,
      "outputs": [
        {
          "output_type": "stream",
          "name": "stdout",
          "text": [
            "Rhonan Bangay\n",
            "Richmond Bangay\n"
          ]
        }
      ]
    },
    {
      "cell_type": "markdown",
      "source": [
        "Polymorphism"
      ],
      "metadata": {
        "id": "Hfb3XxXbXn2Z"
      }
    },
    {
      "cell_type": "code",
      "source": [
        "class RegularPolygon:\n",
        "  def __init__(self,side):\n",
        "    self.side = side\n",
        "class Square(RegularPolygon):\n",
        "  def area(self):\n",
        "    return self.side * self.side\n",
        "class EquilateralTriangle(RegularPolygon):\n",
        "  def area(self):\n",
        "    return self.side * self.side * 0.433\n",
        "\n",
        "obj1 = Square(4)\n",
        "print(obj1.area())\n",
        "\n",
        "obj2 = EquilateralTriangle(3)\n",
        "print(obj2.area())"
      ],
      "metadata": {
        "colab": {
          "base_uri": "https://localhost:8080/"
        },
        "id": "fMmgp_FOXrFN",
        "outputId": "900a4fc6-17d9-4ded-b32f-417ac0ca9a06"
      },
      "execution_count": null,
      "outputs": [
        {
          "output_type": "stream",
          "name": "stdout",
          "text": [
            "16\n",
            "3.897\n"
          ]
        }
      ]
    },
    {
      "cell_type": "markdown",
      "source": [
        "Application 1\n",
        "\n",
        "1. Create a python program that displays the name of three students (Student 1, Student 2, Student 3) and their term grades\n",
        "\n",
        "2. Create a class name Person and attributes - std1, std2, std3,pre,mid,fin\n",
        "\n",
        "3. Compute the average of each term grade using Grade() method\n",
        "\n",
        "4. Information about student's grades must be hidden from others"
      ],
      "metadata": {
        "id": "eJJxSKld5yf4"
      }
    },
    {
      "cell_type": "code",
      "source": [
        "class person:\n",
        "  def __init__(self,std1,std2,std3):\n",
        "    self.__std1 = std1\n",
        "    self.__std2 = std2\n",
        "    self.__std3 = std3\n",
        "  def std1(self):\n",
        "    print(f\"{self.__std1}\\nStudent1: \", end = \" \")\n",
        "  def std2(self):\n",
        "    print(f\"{self.__std2}Student2: \", end = \" \")\n",
        "  def std3(self):\n",
        "    print(f\"{self.__std3}Student3: \", end = \" \")\n",
        "    \n",
        "class ave_grade(person):\n",
        "  def __init__(self,pre,mid,fin):\n",
        "    self.__pre = pre\n",
        "    self.__mid = mid\n",
        "    self.__fin = fin\n",
        "\n",
        "  def Grades(self):\n",
        "    return (self.__pre + self.__mid + self.__fin)/3\n",
        "\n",
        "s1 = ave_grade(1.5,1.5,1.5)\n",
        "s2 = ave_grade(1.5,1.75,1.5)\n",
        "s3 = ave_grade(2.0,1.75,1.5)\n",
        "\n",
        "Std = person(\"Term Grade:\\n\",\"\",\"\")\n",
        "\n",
        "#Information about student's grades must be hidden from others\n",
        "Std.std1()\n",
        "print(\"{:.2f}\".format(s1.Grades()))\n",
        "Std.std2()\n",
        "print(\"{:.2f}\".format(s2.Grades()))\n",
        "Std.std3()\n",
        "print(\"{:.2f}\".format(s3.Grades()))\n"
      ],
      "metadata": {
        "colab": {
          "base_uri": "https://localhost:8080/"
        },
        "id": "y4X5TjpkqiQk",
        "outputId": "564d70f8-abe9-4dae-c785-fc723b230ca6"
      },
      "execution_count": 3,
      "outputs": [
        {
          "output_type": "stream",
          "name": "stdout",
          "text": [
            "Term Grade:\n",
            "\n",
            "Student1:  1.50\n",
            "Student2:  1.58\n",
            "Student3:  1.75\n"
          ]
        }
      ]
    },
    {
      "cell_type": "code",
      "source": [
        "class person:\n",
        "  def __init__(self,term_grade):\n",
        "    self.__term_grade = term_grade\n",
        "\n",
        "  def Terms(self):\n",
        "    print(f\"{self.__term_grade} Prelim   Midterms    Finals \")\n",
        "  def Terms2(self):\n",
        "    print(f\"{self.__term_grade}Term Grade:\\n\")\n",
        "  def student_1(self):\n",
        "    return(\"Student1:      1.5       1.5        1.5\")\n",
        "  def student_2(self):\n",
        "    return(\"Student2:      1.5       1.75       1.5\")\n",
        "  def student_3(self):\n",
        "    return(\"Student3:      2.0       1.75       1.5 \")\n",
        "  \n",
        "\n",
        "  def std1(self):\n",
        "    print(\"Student 1:\")\n",
        "  def std2(self):\n",
        "    print(\"Student 2:\")\n",
        "  def std3(self):\n",
        "    print(\"Student 3:\")\n",
        "\n",
        "    \n",
        "class ave_grade(person):\n",
        "  def __init__(self,pre,mid,fin,):\n",
        "    self.__pre = pre\n",
        "    self.__mid = mid\n",
        "    self.__fin = fin\n",
        "  def Grades(self):\n",
        "    return (self.__pre + self.__mid + self.__fin)/3\n",
        "\n",
        "\n",
        "Std_1 = ave_grade(1.5,1.5,1.5)\n",
        "Std_2 = ave_grade(1.5,1.75,1.5)\n",
        "Std_3 = ave_grade(2.0,1.75,1.5)\n",
        "\n",
        "babe2 = person(\"\")\n",
        "babe = person(\"Grading Period:\")\n",
        "babe2.Terms2()\n",
        "babe.Terms()\n",
        "\n",
        "s1 = person(\"\")\n",
        "s2 = person(\"\")\n",
        "s3 = person(\"\")\n",
        "\n",
        "\n",
        "#### to hide the info just insert hashtag \"#\" ####\n",
        "\n",
        "#print(s1.student_1(),\" \\nFinal Ave:\",Std_1.Grades(),\"\\n\")\n",
        "\n",
        "print(s2.student_2(),\" \\nFinal Ave:\",Std_2.Grades(),\"\\n\")\n",
        "\n",
        "#print(s3.student_3(),\" \\nFinal Ave:\",Std_3.Grades(),\"\\n\")\n",
        "\n"
      ],
      "metadata": {
        "colab": {
          "base_uri": "https://localhost:8080/"
        },
        "id": "8qkXuCQW_Mbf",
        "outputId": "68223464-37da-4580-fad1-543841dc2654"
      },
      "execution_count": 2,
      "outputs": [
        {
          "output_type": "stream",
          "name": "stdout",
          "text": [
            "Term Grade:\n",
            "\n",
            "Grading Period: Prelim   Midterms    Finals \n",
            "Student2:      1.5       1.75       1.5  \n",
            "Final Ave: 1.5833333333333333 \n",
            "\n"
          ]
        }
      ]
    }
  ]
}